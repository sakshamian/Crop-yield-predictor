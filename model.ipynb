{
 "cells": [
  {
   "cell_type": "code",
   "execution_count": 234,
   "id": "9fa4a2d9",
   "metadata": {},
   "outputs": [],
   "source": [
    "import numpy as np\n",
    "import pandas as pd\n",
    "import seaborn as sns\n",
    "import matplotlib.pyplot as plt"
   ]
  },
  {
   "cell_type": "code",
   "execution_count": 235,
   "id": "9242f471",
   "metadata": {},
   "outputs": [],
   "source": [
    "df = pd.read_csv('yield_df.csv')"
   ]
  },
  {
   "cell_type": "code",
   "execution_count": 236,
   "id": "15598ff1",
   "metadata": {},
   "outputs": [
    {
     "data": {
      "text/html": [
       "<div>\n",
       "<style scoped>\n",
       "    .dataframe tbody tr th:only-of-type {\n",
       "        vertical-align: middle;\n",
       "    }\n",
       "\n",
       "    .dataframe tbody tr th {\n",
       "        vertical-align: top;\n",
       "    }\n",
       "\n",
       "    .dataframe thead th {\n",
       "        text-align: right;\n",
       "    }\n",
       "</style>\n",
       "<table border=\"1\" class=\"dataframe\">\n",
       "  <thead>\n",
       "    <tr style=\"text-align: right;\">\n",
       "      <th></th>\n",
       "      <th>Unnamed: 0</th>\n",
       "      <th>area</th>\n",
       "      <th>item</th>\n",
       "      <th>year</th>\n",
       "      <th>yield</th>\n",
       "      <th>avg_rain</th>\n",
       "      <th>fertilizer</th>\n",
       "      <th>avg_temp</th>\n",
       "    </tr>\n",
       "  </thead>\n",
       "  <tbody>\n",
       "    <tr>\n",
       "      <th>0</th>\n",
       "      <td>0</td>\n",
       "      <td>Albania</td>\n",
       "      <td>Maize</td>\n",
       "      <td>1990</td>\n",
       "      <td>36613</td>\n",
       "      <td>1485.0</td>\n",
       "      <td>121.0</td>\n",
       "      <td>16.37</td>\n",
       "    </tr>\n",
       "    <tr>\n",
       "      <th>1</th>\n",
       "      <td>1</td>\n",
       "      <td>Albania</td>\n",
       "      <td>Potatoes</td>\n",
       "      <td>1990</td>\n",
       "      <td>66667</td>\n",
       "      <td>1485.0</td>\n",
       "      <td>121.0</td>\n",
       "      <td>16.37</td>\n",
       "    </tr>\n",
       "    <tr>\n",
       "      <th>2</th>\n",
       "      <td>2</td>\n",
       "      <td>Albania</td>\n",
       "      <td>Rice, paddy</td>\n",
       "      <td>1990</td>\n",
       "      <td>23333</td>\n",
       "      <td>1485.0</td>\n",
       "      <td>121.0</td>\n",
       "      <td>16.37</td>\n",
       "    </tr>\n",
       "    <tr>\n",
       "      <th>3</th>\n",
       "      <td>3</td>\n",
       "      <td>Albania</td>\n",
       "      <td>Sorghum</td>\n",
       "      <td>1990</td>\n",
       "      <td>12500</td>\n",
       "      <td>1485.0</td>\n",
       "      <td>121.0</td>\n",
       "      <td>16.37</td>\n",
       "    </tr>\n",
       "    <tr>\n",
       "      <th>4</th>\n",
       "      <td>4</td>\n",
       "      <td>Albania</td>\n",
       "      <td>Soybeans</td>\n",
       "      <td>1990</td>\n",
       "      <td>7000</td>\n",
       "      <td>1485.0</td>\n",
       "      <td>121.0</td>\n",
       "      <td>16.37</td>\n",
       "    </tr>\n",
       "  </tbody>\n",
       "</table>\n",
       "</div>"
      ],
      "text/plain": [
       "   Unnamed: 0     area         item  year  yield  avg_rain  fertilizer  \\\n",
       "0           0  Albania        Maize  1990  36613    1485.0       121.0   \n",
       "1           1  Albania     Potatoes  1990  66667    1485.0       121.0   \n",
       "2           2  Albania  Rice, paddy  1990  23333    1485.0       121.0   \n",
       "3           3  Albania      Sorghum  1990  12500    1485.0       121.0   \n",
       "4           4  Albania     Soybeans  1990   7000    1485.0       121.0   \n",
       "\n",
       "   avg_temp  \n",
       "0     16.37  \n",
       "1     16.37  \n",
       "2     16.37  \n",
       "3     16.37  \n",
       "4     16.37  "
      ]
     },
     "execution_count": 236,
     "metadata": {},
     "output_type": "execute_result"
    }
   ],
   "source": [
    "df.head()"
   ]
  },
  {
   "cell_type": "code",
   "execution_count": 237,
   "id": "b1c9faf6",
   "metadata": {},
   "outputs": [],
   "source": [
    "df.drop('Unnamed: 0',axis=1,inplace=True)"
   ]
  },
  {
   "cell_type": "code",
   "execution_count": 238,
   "id": "095385cb",
   "metadata": {},
   "outputs": [
    {
     "data": {
      "text/plain": [
       "(28242, 7)"
      ]
     },
     "execution_count": 238,
     "metadata": {},
     "output_type": "execute_result"
    }
   ],
   "source": [
    "df.shape"
   ]
  },
  {
   "cell_type": "code",
   "execution_count": 239,
   "id": "8fc38854",
   "metadata": {},
   "outputs": [
    {
     "name": "stdout",
     "output_type": "stream",
     "text": [
      "<class 'pandas.core.frame.DataFrame'>\n",
      "RangeIndex: 28242 entries, 0 to 28241\n",
      "Data columns (total 7 columns):\n",
      " #   Column      Non-Null Count  Dtype  \n",
      "---  ------      --------------  -----  \n",
      " 0   area        28242 non-null  object \n",
      " 1   item        28242 non-null  object \n",
      " 2   year        28242 non-null  int64  \n",
      " 3   yield       28242 non-null  int64  \n",
      " 4   avg_rain    28242 non-null  float64\n",
      " 5   fertilizer  28242 non-null  float64\n",
      " 6   avg_temp    28242 non-null  float64\n",
      "dtypes: float64(3), int64(2), object(2)\n",
      "memory usage: 1.5+ MB\n"
     ]
    }
   ],
   "source": [
    "df.info()"
   ]
  },
  {
   "cell_type": "code",
   "execution_count": 240,
   "id": "6c783842",
   "metadata": {},
   "outputs": [
    {
     "data": {
      "text/plain": [
       "area          0\n",
       "item          0\n",
       "year          0\n",
       "yield         0\n",
       "avg_rain      0\n",
       "fertilizer    0\n",
       "avg_temp      0\n",
       "dtype: int64"
      ]
     },
     "execution_count": 240,
     "metadata": {},
     "output_type": "execute_result"
    }
   ],
   "source": [
    "df.isnull().sum()"
   ]
  },
  {
   "cell_type": "code",
   "execution_count": 241,
   "id": "23aceb14",
   "metadata": {},
   "outputs": [
    {
     "data": {
      "text/plain": [
       "2310"
      ]
     },
     "execution_count": 241,
     "metadata": {},
     "output_type": "execute_result"
    }
   ],
   "source": [
    "df.duplicated().sum()"
   ]
  },
  {
   "cell_type": "code",
   "execution_count": 242,
   "id": "2a338e28",
   "metadata": {},
   "outputs": [],
   "source": [
    "df.drop_duplicates(inplace=True)"
   ]
  },
  {
   "cell_type": "code",
   "execution_count": 243,
   "id": "be00c059",
   "metadata": {},
   "outputs": [
    {
     "data": {
      "text/plain": [
       "0"
      ]
     },
     "execution_count": 243,
     "metadata": {},
     "output_type": "execute_result"
    }
   ],
   "source": [
    "df.duplicated().sum()"
   ]
  },
  {
   "cell_type": "markdown",
   "id": "da03e5eb",
   "metadata": {},
   "source": [
    "# Average rainfall check"
   ]
  },
  {
   "cell_type": "code",
   "execution_count": 244,
   "id": "20c05e7c",
   "metadata": {},
   "outputs": [],
   "source": [
    "def isStr(obj):\n",
    "    try:\n",
    "        float(obj)\n",
    "        return False\n",
    "    except:\n",
    "        return True\n",
    "drop_rows = df[df['avg_rain'].apply(isStr)].index"
   ]
  },
  {
   "cell_type": "code",
   "execution_count": 245,
   "id": "0961c97b",
   "metadata": {},
   "outputs": [],
   "source": [
    "df = df.drop(drop_rows)"
   ]
  },
  {
   "cell_type": "code",
   "execution_count": 246,
   "id": "5cba58d1",
   "metadata": {},
   "outputs": [],
   "source": [
    "df['avg_rain'] = df['avg_rain'].astype(np.float64)"
   ]
  },
  {
   "cell_type": "code",
   "execution_count": 247,
   "id": "7a4f7472",
   "metadata": {},
   "outputs": [
    {
     "data": {
      "text/plain": [
       "1996196943"
      ]
     },
     "execution_count": 247,
     "metadata": {},
     "output_type": "execute_result"
    }
   ],
   "source": [
    "df['yield'].sum()"
   ]
  },
  {
   "cell_type": "markdown",
   "id": "02fcc358",
   "metadata": {},
   "source": [
    "# Train-Test split"
   ]
  },
  {
   "cell_type": "code",
   "execution_count": 248,
   "id": "7ce27222",
   "metadata": {},
   "outputs": [],
   "source": [
    "col = ['year', 'avg_rain','fertilizer', 'avg_temp', 'area', 'item', 'yield']\n",
    "df = df[col]\n",
    "X = df.iloc[:, :-1]\n",
    "y = df.iloc[:, -1]"
   ]
  },
  {
   "cell_type": "code",
   "execution_count": 249,
   "id": "03b1d597",
   "metadata": {},
   "outputs": [
    {
     "data": {
      "text/html": [
       "<div>\n",
       "<style scoped>\n",
       "    .dataframe tbody tr th:only-of-type {\n",
       "        vertical-align: middle;\n",
       "    }\n",
       "\n",
       "    .dataframe tbody tr th {\n",
       "        vertical-align: top;\n",
       "    }\n",
       "\n",
       "    .dataframe thead th {\n",
       "        text-align: right;\n",
       "    }\n",
       "</style>\n",
       "<table border=\"1\" class=\"dataframe\">\n",
       "  <thead>\n",
       "    <tr style=\"text-align: right;\">\n",
       "      <th></th>\n",
       "      <th>year</th>\n",
       "      <th>avg_rain</th>\n",
       "      <th>fertilizer</th>\n",
       "      <th>avg_temp</th>\n",
       "      <th>area</th>\n",
       "      <th>item</th>\n",
       "      <th>yield</th>\n",
       "    </tr>\n",
       "  </thead>\n",
       "  <tbody>\n",
       "    <tr>\n",
       "      <th>0</th>\n",
       "      <td>1990</td>\n",
       "      <td>1485.0</td>\n",
       "      <td>121.0</td>\n",
       "      <td>16.37</td>\n",
       "      <td>Albania</td>\n",
       "      <td>Maize</td>\n",
       "      <td>36613</td>\n",
       "    </tr>\n",
       "    <tr>\n",
       "      <th>1</th>\n",
       "      <td>1990</td>\n",
       "      <td>1485.0</td>\n",
       "      <td>121.0</td>\n",
       "      <td>16.37</td>\n",
       "      <td>Albania</td>\n",
       "      <td>Potatoes</td>\n",
       "      <td>66667</td>\n",
       "    </tr>\n",
       "    <tr>\n",
       "      <th>2</th>\n",
       "      <td>1990</td>\n",
       "      <td>1485.0</td>\n",
       "      <td>121.0</td>\n",
       "      <td>16.37</td>\n",
       "      <td>Albania</td>\n",
       "      <td>Rice, paddy</td>\n",
       "      <td>23333</td>\n",
       "    </tr>\n",
       "  </tbody>\n",
       "</table>\n",
       "</div>"
      ],
      "text/plain": [
       "   year  avg_rain  fertilizer  avg_temp     area         item  yield\n",
       "0  1990    1485.0       121.0     16.37  Albania        Maize  36613\n",
       "1  1990    1485.0       121.0     16.37  Albania     Potatoes  66667\n",
       "2  1990    1485.0       121.0     16.37  Albania  Rice, paddy  23333"
      ]
     },
     "execution_count": 249,
     "metadata": {},
     "output_type": "execute_result"
    }
   ],
   "source": [
    "df.head(3)"
   ]
  },
  {
   "cell_type": "code",
   "execution_count": 250,
   "id": "03724702",
   "metadata": {},
   "outputs": [],
   "source": [
    "from sklearn.model_selection import train_test_split\n",
    "X_train, X_test, y_train, y_test = train_test_split(X, y, train_size=0.8, random_state=0, shuffle=True)"
   ]
  },
  {
   "cell_type": "markdown",
   "id": "08992fcd",
   "metadata": {},
   "source": [
    "# Transformation"
   ]
  },
  {
   "cell_type": "code",
   "execution_count": 251,
   "id": "2fd5f6de",
   "metadata": {},
   "outputs": [],
   "source": [
    "from sklearn.preprocessing import OneHotEncoder\n",
    "from sklearn.compose import ColumnTransformer\n",
    "from sklearn.preprocessing import StandardScaler\n",
    "ohe = OneHotEncoder(drop='first')\n",
    "scale = StandardScaler()\n",
    "\n",
    "preprocesser = ColumnTransformer(\n",
    "        transformers = [\n",
    "            ('StandardScale', scale, [0, 1, 2, 3]),\n",
    "            ('OHE', ohe, [4, 5]),\n",
    "        ],\n",
    "        remainder='passthrough'\n",
    ")"
   ]
  },
  {
   "cell_type": "code",
   "execution_count": 252,
   "id": "abe8ee2d",
   "metadata": {},
   "outputs": [],
   "source": [
    "X_train_dummy = preprocesser.fit_transform(X_train)\n",
    "X_test_dummy = preprocesser.transform(X_test)"
   ]
  },
  {
   "cell_type": "code",
   "execution_count": 253,
   "id": "4bd11346",
   "metadata": {},
   "outputs": [
    {
     "data": {
      "text/plain": [
       "array(['StandardScale__year', 'StandardScale__avg_rain',\n",
       "       'StandardScale__fertilizer', 'StandardScale__avg_temp',\n",
       "       'OHE__area_Algeria', 'OHE__area_Angola', 'OHE__area_Argentina',\n",
       "       'OHE__area_Armenia', 'OHE__area_Australia', 'OHE__area_Austria',\n",
       "       'OHE__area_Azerbaijan', 'OHE__area_Bahamas', 'OHE__area_Bahrain',\n",
       "       'OHE__area_Bangladesh', 'OHE__area_Belarus', 'OHE__area_Belgium',\n",
       "       'OHE__area_Botswana', 'OHE__area_Brazil', 'OHE__area_Bulgaria',\n",
       "       'OHE__area_Burkina Faso', 'OHE__area_Burundi',\n",
       "       'OHE__area_Cameroon', 'OHE__area_Canada',\n",
       "       'OHE__area_Central African Republic', 'OHE__area_Chile',\n",
       "       'OHE__area_Colombia', 'OHE__area_Croatia', 'OHE__area_Denmark',\n",
       "       'OHE__area_Dominican Republic', 'OHE__area_Ecuador',\n",
       "       'OHE__area_Egypt', 'OHE__area_El Salvador', 'OHE__area_Eritrea',\n",
       "       'OHE__area_Estonia', 'OHE__area_Finland', 'OHE__area_France',\n",
       "       'OHE__area_Germany', 'OHE__area_Ghana', 'OHE__area_Greece',\n",
       "       'OHE__area_Guatemala', 'OHE__area_Guinea', 'OHE__area_Guyana',\n",
       "       'OHE__area_Haiti', 'OHE__area_Honduras', 'OHE__area_Hungary',\n",
       "       'OHE__area_India', 'OHE__area_Indonesia', 'OHE__area_Iraq',\n",
       "       'OHE__area_Ireland', 'OHE__area_Italy', 'OHE__area_Jamaica',\n",
       "       'OHE__area_Japan', 'OHE__area_Kazakhstan', 'OHE__area_Kenya',\n",
       "       'OHE__area_Latvia', 'OHE__area_Lebanon', 'OHE__area_Lesotho',\n",
       "       'OHE__area_Libya', 'OHE__area_Lithuania', 'OHE__area_Madagascar',\n",
       "       'OHE__area_Malawi', 'OHE__area_Malaysia', 'OHE__area_Mali',\n",
       "       'OHE__area_Mauritania', 'OHE__area_Mauritius', 'OHE__area_Mexico',\n",
       "       'OHE__area_Montenegro', 'OHE__area_Morocco',\n",
       "       'OHE__area_Mozambique', 'OHE__area_Namibia', 'OHE__area_Nepal',\n",
       "       'OHE__area_Netherlands', 'OHE__area_New Zealand',\n",
       "       'OHE__area_Nicaragua', 'OHE__area_Niger', 'OHE__area_Norway',\n",
       "       'OHE__area_Pakistan', 'OHE__area_Papua New Guinea',\n",
       "       'OHE__area_Peru', 'OHE__area_Poland', 'OHE__area_Portugal',\n",
       "       'OHE__area_Qatar', 'OHE__area_Romania', 'OHE__area_Rwanda',\n",
       "       'OHE__area_Saudi Arabia', 'OHE__area_Senegal',\n",
       "       'OHE__area_Slovenia', 'OHE__area_South Africa', 'OHE__area_Spain',\n",
       "       'OHE__area_Sri Lanka', 'OHE__area_Sudan', 'OHE__area_Suriname',\n",
       "       'OHE__area_Sweden', 'OHE__area_Switzerland',\n",
       "       'OHE__area_Tajikistan', 'OHE__area_Thailand', 'OHE__area_Tunisia',\n",
       "       'OHE__area_Turkey', 'OHE__area_Uganda', 'OHE__area_Ukraine',\n",
       "       'OHE__area_United Kingdom', 'OHE__area_Uruguay',\n",
       "       'OHE__area_Zambia', 'OHE__area_Zimbabwe', 'OHE__item_Maize',\n",
       "       'OHE__item_Plantains and others', 'OHE__item_Potatoes',\n",
       "       'OHE__item_Rice, paddy', 'OHE__item_Sorghum', 'OHE__item_Soybeans',\n",
       "       'OHE__item_Sweet potatoes', 'OHE__item_Wheat', 'OHE__item_Yams'],\n",
       "      dtype=object)"
      ]
     },
     "execution_count": 253,
     "metadata": {},
     "output_type": "execute_result"
    }
   ],
   "source": [
    "preprocesser.get_feature_names_out(col[:-1])"
   ]
  },
  {
   "cell_type": "markdown",
   "id": "7e07a298",
   "metadata": {},
   "source": [
    "# Model Training"
   ]
  },
  {
   "cell_type": "code",
   "execution_count": 254,
   "id": "3320a0db",
   "metadata": {},
   "outputs": [
    {
     "name": "stdout",
     "output_type": "stream",
     "text": [
      "lr : mae : 29907.447350409722 score : 0.7473125540079992 mse: 1817342943.5139735\n"
     ]
    },
    {
     "name": "stderr",
     "output_type": "stream",
     "text": [
      "/Library/Frameworks/Python.framework/Versions/3.10/lib/python3.10/site-packages/sklearn/linear_model/_coordinate_descent.py:589: ConvergenceWarning: Objective did not converge. You might want to increase the number of iterations. Duality gap: 67280771830.0, tolerance: 14848622817.505169\n",
      "  model = cd_fast.sparse_enet_coordinate_descent(\n"
     ]
    },
    {
     "name": "stdout",
     "output_type": "stream",
     "text": [
      "lss : mae : 29893.99762450549 score : 0.7473261756207235 mse: 1817244976.0757167\n",
      "Rid : mae : 29864.85302468091 score : 0.7473042393527811 mse: 1817402743.0023456\n",
      "Dtr : mae : 3914.620397146713 score : 0.9797476817086801 mse: 145655861.89705032\n",
      "knn : mae : 4616.9047619047615 score : 0.9849925066819024 mse: 107934772.83529592\n",
      "Rdf : mae : 3701.9318353576245 score : 0.9877742255207816 mse: 87928487.66813745\n"
     ]
    }
   ],
   "source": [
    "#linear regression\n",
    "from sklearn.linear_model import LinearRegression,Lasso,Ridge\n",
    "from sklearn.neighbors import KNeighborsRegressor\n",
    "from sklearn.tree import DecisionTreeRegressor\n",
    "from sklearn.ensemble import RandomForestRegressor\n",
    "from sklearn.metrics import mean_absolute_error,r2_score,mean_squared_error\n",
    "\n",
    "\n",
    "models = {\n",
    "    'lr':LinearRegression(),\n",
    "    'lss':Lasso(),\n",
    "    'Rid':Ridge(),\n",
    "    'Dtr':DecisionTreeRegressor(),\n",
    "    'knn':KNeighborsRegressor(),\n",
    "    'Rdf':RandomForestRegressor()\n",
    "}\n",
    "for name, md in models.items():\n",
    "    md.fit(X_train_dummy,y_train)\n",
    "    y_pred = md.predict(X_test_dummy)\n",
    "    \n",
    "    print(f\"{name} : mae : {mean_absolute_error(y_test,y_pred)} score : {r2_score(y_test,y_pred)} mse: {mean_squared_error(y_test, y_pred)}\")"
   ]
  },
  {
   "cell_type": "markdown",
   "id": "36706933",
   "metadata": {},
   "source": [
    "# Model Selection"
   ]
  },
  {
   "cell_type": "code",
   "execution_count": 255,
   "id": "618d59bc",
   "metadata": {},
   "outputs": [
    {
     "data": {
      "text/plain": [
       "array([38148.69, 24380.93, 21049.82, ..., 21206.11, 34821.  , 89315.46])"
      ]
     },
     "execution_count": 255,
     "metadata": {},
     "output_type": "execute_result"
    }
   ],
   "source": [
    "Rdf = RandomForestRegressor()\n",
    "Rdf.fit(X_train_dummy,y_train)\n",
    "Rdf.predict(X_test_dummy)"
   ]
  },
  {
   "cell_type": "markdown",
   "id": "f8a5abbc",
   "metadata": {},
   "source": [
    "# Predictive System"
   ]
  },
  {
   "cell_type": "code",
   "execution_count": 256,
   "id": "1ecbabcc",
   "metadata": {},
   "outputs": [
    {
     "name": "stderr",
     "output_type": "stream",
     "text": [
      "/Library/Frameworks/Python.framework/Versions/3.10/lib/python3.10/site-packages/sklearn/base.py:465: UserWarning: X does not have valid feature names, but StandardScaler was fitted with feature names\n",
      "  warnings.warn(\n",
      "/Library/Frameworks/Python.framework/Versions/3.10/lib/python3.10/site-packages/sklearn/base.py:465: UserWarning: X does not have valid feature names, but OneHotEncoder was fitted with feature names\n",
      "  warnings.warn(\n"
     ]
    }
   ],
   "source": [
    "def prediction(Year, avg_rain, fertlizer, avg_temp, Area, Item):\n",
    "    features = np.array([[Year, avg_rain, fertlizer, avg_temp, Area, Item]], dtype=object)\n",
    "    transformed_features = preprocesser.transform(features)\n",
    "    predicted_yield = Rdf.predict(transformed_features).reshape(1, -1)\n",
    "\n",
    "    return predicted_yield[0]\n",
    "\n",
    "Year = 2005\n",
    "avg_rain = 1180.0\n",
    "fertlizer = 12.00\n",
    "avg_temp = 31.2\n",
    "Area = 'India'\n",
    "Item = 'Soybeans'\n",
    "result = prediction(Year, avg_rain, fertlizer, avg_temp, Area, Item)\n"
   ]
  },
  {
   "cell_type": "code",
   "execution_count": 257,
   "id": "390eb526",
   "metadata": {},
   "outputs": [
    {
     "data": {
      "text/plain": [
       "array([14783.54])"
      ]
     },
     "execution_count": 257,
     "metadata": {},
     "output_type": "execute_result"
    }
   ],
   "source": [
    "result"
   ]
  },
  {
   "cell_type": "markdown",
   "id": "6e44c964",
   "metadata": {},
   "source": [
    "# Pickle Files"
   ]
  },
  {
   "cell_type": "code",
   "execution_count": 258,
   "id": "de3a49c6",
   "metadata": {},
   "outputs": [],
   "source": [
    "import pickle\n",
    "pickle.dump(Rdf,open('rdf.pkl','wb'))\n",
    "pickle.dump(preprocesser,open('preprocessor.pkl','wb'))"
   ]
  }
 ],
 "metadata": {
  "kernelspec": {
   "display_name": "Python 3 (ipykernel)",
   "language": "python",
   "name": "python3"
  },
  "language_info": {
   "codemirror_mode": {
    "name": "ipython",
    "version": 3
   },
   "file_extension": ".py",
   "mimetype": "text/x-python",
   "name": "python",
   "nbconvert_exporter": "python",
   "pygments_lexer": "ipython3",
   "version": "3.10.11"
  }
 },
 "nbformat": 4,
 "nbformat_minor": 5
}
